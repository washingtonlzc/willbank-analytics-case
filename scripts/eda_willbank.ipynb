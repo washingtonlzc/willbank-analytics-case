{
 "cells": [
  {
   "cell_type": "markdown",
   "id": "a7497a5a",
   "metadata": {},
   "source": [
    "# Análise Exploratória dos Dados (EDA) – Will Bank\n",
    "\n",
    "**Autor:** Washington (Kim)  \n",
    "**Objetivo:** Explorar os dados brutos, identificar padrões, falhas e oportunidades de melhoria nos produtos de conta e PIX do Will Bank.\n",
    "\n",
    "## Sumário\n",
    "1. [Importação das Bibliotecas](#importacao-das-bibliotecas)\n",
    "2. [Carregamento dos Dados](#carregamento-dos-dados)\n",
    "3. [Data Cleaning e Tratamento](#data-cleaning-e-tratamento)\n",
    "4. [Análise Exploratória – Visão Geral](#analise-exploratoria-visao-geral)\n",
    "5. [KPIs de Sucesso/Fracasso do PIX](#kpis-de-sucesso-fracasso-do-pix)\n",
    "6. [Análise Temporal de Falhas](#analise-temporal-de-falhas)\n",
    "7. [Análise Geográfica e Demográfica](#analise-geografica-e-demografica)\n",
    "8. [Insights e Recomendações](#insights-e-recomendacoes)"
   ]
  },
  {
   "cell_type": "markdown",
   "id": "7609cd0f",
   "metadata": {},
   "source": [
    "## 1. Importação das Bibliotecas\n",
    "\n",
    "Importamos as bibliotecas necessárias para manipulação dos dados e visualização gráfica."
   ]
  },
  {
   "cell_type": "code",
   "execution_count": 9,
   "id": "d95cd6dc",
   "metadata": {},
   "outputs": [],
   "source": [
    "import pandas as pd\n",
    "import numpy as np\n",
    "import matplotlib.pyplot as plt\n",
    "from IPython.display import display\n",
    "\n",
    "%matplotlib inline\n",
    "pd.set_option('display.max_columns', 50)\n"
   ]
  },
  {
   "cell_type": "markdown",
   "id": "4b5a9d13",
   "metadata": {},
   "source": [
    "## 2. Carregamento dos Dados\n",
    "\n",
    "Nesta etapa, carregamos os arquivos CSV da camada Bronze.\n"
   ]
  },
  {
   "cell_type": "code",
   "execution_count": 7,
   "id": "bcf28d4f",
   "metadata": {},
   "outputs": [
    {
     "name": "stdout",
     "output_type": "stream",
     "text": [
      "Account:\n"
     ]
    },
    {
     "data": {
      "text/html": [
       "<div>\n",
       "<style scoped>\n",
       "    .dataframe tbody tr th:only-of-type {\n",
       "        vertical-align: middle;\n",
       "    }\n",
       "\n",
       "    .dataframe tbody tr th {\n",
       "        vertical-align: top;\n",
       "    }\n",
       "\n",
       "    .dataframe thead th {\n",
       "        text-align: right;\n",
       "    }\n",
       "</style>\n",
       "<table border=\"1\" class=\"dataframe\">\n",
       "  <thead>\n",
       "    <tr style=\"text-align: right;\">\n",
       "      <th></th>\n",
       "      <th>dt_transaction</th>\n",
       "      <th>dt_month</th>\n",
       "      <th>surrogate_key</th>\n",
       "      <th>cd_seqlan</th>\n",
       "      <th>ds_transaction_type</th>\n",
       "      <th>vl_transaction</th>\n",
       "      <th>id_transaction</th>\n",
       "      <th>dt_ingestion</th>\n",
       "    </tr>\n",
       "  </thead>\n",
       "  <tbody>\n",
       "    <tr>\n",
       "      <th>0</th>\n",
       "      <td>2023-06-26</td>\n",
       "      <td>1970-01-01 00:00:00.000202306</td>\n",
       "      <td>54000</td>\n",
       "      <td>722.0</td>\n",
       "      <td>PIX ENVIADO</td>\n",
       "      <td>4.00</td>\n",
       "      <td>bef53e6b7d23a48c4661902fe7c0761c8b7a4bf086c56a...</td>\n",
       "      <td>2025-07-02</td>\n",
       "    </tr>\n",
       "    <tr>\n",
       "      <th>1</th>\n",
       "      <td>2023-03-25</td>\n",
       "      <td>1970-01-01 00:00:00.000202303</td>\n",
       "      <td>54000</td>\n",
       "      <td>470.0</td>\n",
       "      <td>PIX ENVIADO</td>\n",
       "      <td>69.85</td>\n",
       "      <td>fe6a311cae68513c1e24a63cd0a524f553069743a237e1...</td>\n",
       "      <td>2025-07-02</td>\n",
       "    </tr>\n",
       "    <tr>\n",
       "      <th>2</th>\n",
       "      <td>2023-08-05</td>\n",
       "      <td>1970-01-01 00:00:00.000202308</td>\n",
       "      <td>54000</td>\n",
       "      <td>832.0</td>\n",
       "      <td>PIX ENVIADO</td>\n",
       "      <td>6.02</td>\n",
       "      <td>7a1fb24236743bc63caf1931055b2dd4c522f479c41334...</td>\n",
       "      <td>2025-07-02</td>\n",
       "    </tr>\n",
       "    <tr>\n",
       "      <th>3</th>\n",
       "      <td>2023-03-29</td>\n",
       "      <td>1970-01-01 00:00:00.000202303</td>\n",
       "      <td>54000</td>\n",
       "      <td>481.0</td>\n",
       "      <td>PIX ENVIADO</td>\n",
       "      <td>50.00</td>\n",
       "      <td>bd5748e9a1269a05c13447f66b82546f3b8e7e4c83852c...</td>\n",
       "      <td>2025-07-02</td>\n",
       "    </tr>\n",
       "    <tr>\n",
       "      <th>4</th>\n",
       "      <td>2023-05-05</td>\n",
       "      <td>1970-01-01 00:00:00.000202305</td>\n",
       "      <td>54000</td>\n",
       "      <td>554.0</td>\n",
       "      <td>PIX ENVIADO</td>\n",
       "      <td>20.50</td>\n",
       "      <td>c6fbf30fa2d00590c7abae79c8438d92f9057e03d7bc78...</td>\n",
       "      <td>2025-07-02</td>\n",
       "    </tr>\n",
       "  </tbody>\n",
       "</table>\n",
       "</div>"
      ],
      "text/plain": [
       "  dt_transaction                       dt_month  surrogate_key  cd_seqlan  \\\n",
       "0     2023-06-26  1970-01-01 00:00:00.000202306          54000      722.0   \n",
       "1     2023-03-25  1970-01-01 00:00:00.000202303          54000      470.0   \n",
       "2     2023-08-05  1970-01-01 00:00:00.000202308          54000      832.0   \n",
       "3     2023-03-29  1970-01-01 00:00:00.000202303          54000      481.0   \n",
       "4     2023-05-05  1970-01-01 00:00:00.000202305          54000      554.0   \n",
       "\n",
       "  ds_transaction_type  vl_transaction  \\\n",
       "0         PIX ENVIADO            4.00   \n",
       "1         PIX ENVIADO           69.85   \n",
       "2         PIX ENVIADO            6.02   \n",
       "3         PIX ENVIADO           50.00   \n",
       "4         PIX ENVIADO           20.50   \n",
       "\n",
       "                                      id_transaction dt_ingestion  \n",
       "0  bef53e6b7d23a48c4661902fe7c0761c8b7a4bf086c56a...   2025-07-02  \n",
       "1  fe6a311cae68513c1e24a63cd0a524f553069743a237e1...   2025-07-02  \n",
       "2  7a1fb24236743bc63caf1931055b2dd4c522f479c41334...   2025-07-02  \n",
       "3  bd5748e9a1269a05c13447f66b82546f3b8e7e4c83852c...   2025-07-02  \n",
       "4  c6fbf30fa2d00590c7abae79c8438d92f9057e03d7bc78...   2025-07-02  "
      ]
     },
     "metadata": {},
     "output_type": "display_data"
    },
    {
     "name": "stdout",
     "output_type": "stream",
     "text": [
      "PIX:\n"
     ]
    },
    {
     "data": {
      "text/html": [
       "<div>\n",
       "<style scoped>\n",
       "    .dataframe tbody tr th:only-of-type {\n",
       "        vertical-align: middle;\n",
       "    }\n",
       "\n",
       "    .dataframe tbody tr th {\n",
       "        vertical-align: top;\n",
       "    }\n",
       "\n",
       "    .dataframe thead th {\n",
       "        text-align: right;\n",
       "    }\n",
       "</style>\n",
       "<table border=\"1\" class=\"dataframe\">\n",
       "  <thead>\n",
       "    <tr style=\"text-align: right;\">\n",
       "      <th></th>\n",
       "      <th>dt_transaction</th>\n",
       "      <th>dt_month</th>\n",
       "      <th>cd_seqlan</th>\n",
       "      <th>ds_transaction_type</th>\n",
       "      <th>vl_transaction</th>\n",
       "      <th>id_transaction</th>\n",
       "      <th>dt_ingestion</th>\n",
       "    </tr>\n",
       "  </thead>\n",
       "  <tbody>\n",
       "    <tr>\n",
       "      <th>0</th>\n",
       "      <td>2023-08-15</td>\n",
       "      <td>1970-01-01 00:00:00.000202308</td>\n",
       "      <td>288.0</td>\n",
       "      <td>PIX ENVIADO</td>\n",
       "      <td>9.5</td>\n",
       "      <td>f1b3b32d8c970c8a3000ddbe22ccdf2635bf02d6f4203a...</td>\n",
       "      <td>2025-07-02</td>\n",
       "    </tr>\n",
       "    <tr>\n",
       "      <th>1</th>\n",
       "      <td>2023-08-25</td>\n",
       "      <td>1970-01-01 00:00:00.000202308</td>\n",
       "      <td>1484.0</td>\n",
       "      <td>PIX ENVIADO</td>\n",
       "      <td>12.3</td>\n",
       "      <td>aeb34266c57df548fff84f3ff812b73a3c7bae88f9a490...</td>\n",
       "      <td>2025-07-02</td>\n",
       "    </tr>\n",
       "    <tr>\n",
       "      <th>2</th>\n",
       "      <td>2023-08-24</td>\n",
       "      <td>1970-01-01 00:00:00.000202308</td>\n",
       "      <td>289.0</td>\n",
       "      <td>PIX ENVIADO</td>\n",
       "      <td>100.0</td>\n",
       "      <td>530ee35a580a93882b8394283e259644dee65ac2f07709...</td>\n",
       "      <td>2025-07-02</td>\n",
       "    </tr>\n",
       "    <tr>\n",
       "      <th>3</th>\n",
       "      <td>2023-08-16</td>\n",
       "      <td>1970-01-01 00:00:00.000202308</td>\n",
       "      <td>880.0</td>\n",
       "      <td>PIX ENVIADO</td>\n",
       "      <td>236.0</td>\n",
       "      <td>e865fa61c47fe47e1b83c2be5b92e039bdc653b445cb1e...</td>\n",
       "      <td>2025-07-02</td>\n",
       "    </tr>\n",
       "    <tr>\n",
       "      <th>4</th>\n",
       "      <td>2023-09-04</td>\n",
       "      <td>1970-01-01 00:00:00.000202309</td>\n",
       "      <td>547.0</td>\n",
       "      <td>PIX ENVIADO</td>\n",
       "      <td>90.0</td>\n",
       "      <td>c2d01070701464ee03e1a510d339e0d7cfaac56d1fd0e5...</td>\n",
       "      <td>2025-07-02</td>\n",
       "    </tr>\n",
       "  </tbody>\n",
       "</table>\n",
       "</div>"
      ],
      "text/plain": [
       "  dt_transaction                       dt_month  cd_seqlan  \\\n",
       "0     2023-08-15  1970-01-01 00:00:00.000202308      288.0   \n",
       "1     2023-08-25  1970-01-01 00:00:00.000202308     1484.0   \n",
       "2     2023-08-24  1970-01-01 00:00:00.000202308      289.0   \n",
       "3     2023-08-16  1970-01-01 00:00:00.000202308      880.0   \n",
       "4     2023-09-04  1970-01-01 00:00:00.000202309      547.0   \n",
       "\n",
       "  ds_transaction_type  vl_transaction  \\\n",
       "0         PIX ENVIADO             9.5   \n",
       "1         PIX ENVIADO            12.3   \n",
       "2         PIX ENVIADO           100.0   \n",
       "3         PIX ENVIADO           236.0   \n",
       "4         PIX ENVIADO            90.0   \n",
       "\n",
       "                                      id_transaction dt_ingestion  \n",
       "0  f1b3b32d8c970c8a3000ddbe22ccdf2635bf02d6f4203a...   2025-07-02  \n",
       "1  aeb34266c57df548fff84f3ff812b73a3c7bae88f9a490...   2025-07-02  \n",
       "2  530ee35a580a93882b8394283e259644dee65ac2f07709...   2025-07-02  \n",
       "3  e865fa61c47fe47e1b83c2be5b92e039bdc653b445cb1e...   2025-07-02  \n",
       "4  c2d01070701464ee03e1a510d339e0d7cfaac56d1fd0e5...   2025-07-02  "
      ]
     },
     "metadata": {},
     "output_type": "display_data"
    },
    {
     "name": "stdout",
     "output_type": "stream",
     "text": [
      "Customer:\n"
     ]
    },
    {
     "data": {
      "text/html": [
       "<div>\n",
       "<style scoped>\n",
       "    .dataframe tbody tr th:only-of-type {\n",
       "        vertical-align: middle;\n",
       "    }\n",
       "\n",
       "    .dataframe tbody tr th {\n",
       "        vertical-align: top;\n",
       "    }\n",
       "\n",
       "    .dataframe thead th {\n",
       "        text-align: right;\n",
       "    }\n",
       "</style>\n",
       "<table border=\"1\" class=\"dataframe\">\n",
       "  <thead>\n",
       "    <tr style=\"text-align: right;\">\n",
       "      <th></th>\n",
       "      <th>entry_date</th>\n",
       "      <th>surrogate_key</th>\n",
       "      <th>full_name</th>\n",
       "      <th>birth_date</th>\n",
       "      <th>uf_name</th>\n",
       "      <th>uf</th>\n",
       "      <th>street_name</th>\n",
       "      <th>dt_ingestion</th>\n",
       "    </tr>\n",
       "  </thead>\n",
       "  <tbody>\n",
       "    <tr>\n",
       "      <th>0</th>\n",
       "      <td>2022-11-18</td>\n",
       "      <td>1000</td>\n",
       "      <td>Sophie Peixoto</td>\n",
       "      <td>1981-05-18</td>\n",
       "      <td>Goiás</td>\n",
       "      <td>GO</td>\n",
       "      <td>Passarela Stephany Jesus, 45</td>\n",
       "      <td>2025-07-02</td>\n",
       "    </tr>\n",
       "    <tr>\n",
       "      <th>1</th>\n",
       "      <td>2022-11-05</td>\n",
       "      <td>2000</td>\n",
       "      <td>Miguel Campos</td>\n",
       "      <td>1988-09-04</td>\n",
       "      <td>Amazonas</td>\n",
       "      <td>AM</td>\n",
       "      <td>Recanto Maitê Nascimento, 81</td>\n",
       "      <td>2025-07-02</td>\n",
       "    </tr>\n",
       "    <tr>\n",
       "      <th>2</th>\n",
       "      <td>2023-01-01</td>\n",
       "      <td>3000</td>\n",
       "      <td>Bryan Cardoso</td>\n",
       "      <td>1992-04-14</td>\n",
       "      <td>Tocantins</td>\n",
       "      <td>TO</td>\n",
       "      <td>Viaduto de Lima, 49</td>\n",
       "      <td>2025-07-02</td>\n",
       "    </tr>\n",
       "    <tr>\n",
       "      <th>3</th>\n",
       "      <td>2023-03-21</td>\n",
       "      <td>4000</td>\n",
       "      <td>Nicolas Viana</td>\n",
       "      <td>1984-06-08</td>\n",
       "      <td>Mato Grosso do Sul</td>\n",
       "      <td>MS</td>\n",
       "      <td>Vereda Isadora Campos, 507</td>\n",
       "      <td>2025-07-02</td>\n",
       "    </tr>\n",
       "    <tr>\n",
       "      <th>4</th>\n",
       "      <td>2022-09-26</td>\n",
       "      <td>5000</td>\n",
       "      <td>Heitor Cavalcanti</td>\n",
       "      <td>1993-06-23</td>\n",
       "      <td>Paraná</td>\n",
       "      <td>PR</td>\n",
       "      <td>Campo Aragão, 58</td>\n",
       "      <td>2025-07-02</td>\n",
       "    </tr>\n",
       "  </tbody>\n",
       "</table>\n",
       "</div>"
      ],
      "text/plain": [
       "   entry_date  surrogate_key          full_name  birth_date  \\\n",
       "0  2022-11-18           1000     Sophie Peixoto  1981-05-18   \n",
       "1  2022-11-05           2000      Miguel Campos  1988-09-04   \n",
       "2  2023-01-01           3000      Bryan Cardoso  1992-04-14   \n",
       "3  2023-03-21           4000      Nicolas Viana  1984-06-08   \n",
       "4  2022-09-26           5000  Heitor Cavalcanti  1993-06-23   \n",
       "\n",
       "              uf_name  uf                   street_name dt_ingestion  \n",
       "0               Goiás  GO  Passarela Stephany Jesus, 45   2025-07-02  \n",
       "1            Amazonas  AM  Recanto Maitê Nascimento, 81   2025-07-02  \n",
       "2           Tocantins  TO           Viaduto de Lima, 49   2025-07-02  \n",
       "3  Mato Grosso do Sul  MS    Vereda Isadora Campos, 507   2025-07-02  \n",
       "4              Paraná  PR              Campo Aragão, 58   2025-07-02  "
      ]
     },
     "metadata": {},
     "output_type": "display_data"
    }
   ],
   "source": [
    "account = pd.read_csv('../data/bronze/bronze_core_account.csv')\n",
    "pix = pd.read_csv('../data/bronze/bronze_core_pix.csv')\n",
    "customer = pd.read_csv('../data/bronze/bronze_customer.csv')\n",
    "\n",
    "print(\"Account:\")\n",
    "display(account.head())\n",
    "\n",
    "print(\"PIX:\")\n",
    "display(pix.head())\n",
    "\n",
    "print(\"Customer:\")\n",
    "display(customer.head())\n"
   ]
  },
  {
   "cell_type": "markdown",
   "id": "8abda47d",
   "metadata": {},
   "source": [
    "## 3. Introdução à Análise Exploratória\n",
    "\n",
    "A Análise Exploratória de Dados (EDA) permite entender as características do dataset, identificar problemas de qualidade, outliers, padrões e obter uma visão geral das informações disponíveis.\n"
   ]
  },
  {
   "cell_type": "markdown",
   "id": "a5b95477",
   "metadata": {},
   "source": [
    "## 4. Análise Exploratória – Visão Geral\n",
    "\n",
    "Vamos analisar:\n",
    "- Volume de registros em cada tabela\n",
    "- Tipos de dados e valores nulos\n",
    "- Estatísticas descritivas dos campos numéricos\n"
   ]
  },
  {
   "cell_type": "code",
   "execution_count": 12,
   "id": "9feaab6f",
   "metadata": {},
   "outputs": [
    {
     "name": "stdout",
     "output_type": "stream",
     "text": [
      "Volume de registros:\n",
      "Account: (64651, 8)\n",
      "PIX: (64651, 7)\n",
      "Customer: (500, 8)\n",
      "\n",
      "Account - Info:\n",
      "<class 'pandas.core.frame.DataFrame'>\n",
      "RangeIndex: 64651 entries, 0 to 64650\n",
      "Data columns (total 8 columns):\n",
      " #   Column               Non-Null Count  Dtype  \n",
      "---  ------               --------------  -----  \n",
      " 0   dt_transaction       64651 non-null  object \n",
      " 1   dt_month             64651 non-null  object \n",
      " 2   surrogate_key        64651 non-null  int64  \n",
      " 3   cd_seqlan            64651 non-null  float64\n",
      " 4   ds_transaction_type  64651 non-null  object \n",
      " 5   vl_transaction       64651 non-null  float64\n",
      " 6   id_transaction       64651 non-null  object \n",
      " 7   dt_ingestion         64651 non-null  object \n",
      "dtypes: float64(2), int64(1), object(5)\n",
      "memory usage: 3.9+ MB\n",
      "\n",
      "Account - Valores nulos:\n",
      "dt_transaction         0\n",
      "dt_month               0\n",
      "surrogate_key          0\n",
      "cd_seqlan              0\n",
      "ds_transaction_type    0\n",
      "vl_transaction         0\n",
      "id_transaction         0\n",
      "dt_ingestion           0\n",
      "dtype: int64\n",
      "\n",
      "PIX - Info:\n",
      "<class 'pandas.core.frame.DataFrame'>\n",
      "RangeIndex: 64651 entries, 0 to 64650\n",
      "Data columns (total 7 columns):\n",
      " #   Column               Non-Null Count  Dtype  \n",
      "---  ------               --------------  -----  \n",
      " 0   dt_transaction       64651 non-null  object \n",
      " 1   dt_month             64651 non-null  object \n",
      " 2   cd_seqlan            64651 non-null  float64\n",
      " 3   ds_transaction_type  64651 non-null  object \n",
      " 4   vl_transaction       64651 non-null  float64\n",
      " 5   id_transaction       64651 non-null  object \n",
      " 6   dt_ingestion         64651 non-null  object \n",
      "dtypes: float64(2), object(5)\n",
      "memory usage: 3.5+ MB\n",
      "\n",
      "PIX - Valores nulos:\n",
      "dt_transaction         0\n",
      "dt_month               0\n",
      "cd_seqlan              0\n",
      "ds_transaction_type    0\n",
      "vl_transaction         0\n",
      "id_transaction         0\n",
      "dt_ingestion           0\n",
      "dtype: int64\n",
      "\n",
      "Customer - Info:\n",
      "<class 'pandas.core.frame.DataFrame'>\n",
      "RangeIndex: 500 entries, 0 to 499\n",
      "Data columns (total 8 columns):\n",
      " #   Column         Non-Null Count  Dtype \n",
      "---  ------         --------------  ----- \n",
      " 0   entry_date     500 non-null    object\n",
      " 1   surrogate_key  500 non-null    int64 \n",
      " 2   full_name      500 non-null    object\n",
      " 3   birth_date     500 non-null    object\n",
      " 4   uf_name        500 non-null    object\n",
      " 5   uf             500 non-null    object\n",
      " 6   street_name    500 non-null    object\n",
      " 7   dt_ingestion   500 non-null    object\n",
      "dtypes: int64(1), object(7)\n",
      "memory usage: 31.4+ KB\n",
      "\n",
      "Customer - Valores nulos:\n",
      "entry_date       0\n",
      "surrogate_key    0\n",
      "full_name        0\n",
      "birth_date       0\n",
      "uf_name          0\n",
      "uf               0\n",
      "street_name      0\n",
      "dt_ingestion     0\n",
      "dtype: int64\n",
      "\n",
      "Account - Estatísticas:\n"
     ]
    },
    {
     "data": {
      "text/html": [
       "<div>\n",
       "<style scoped>\n",
       "    .dataframe tbody tr th:only-of-type {\n",
       "        vertical-align: middle;\n",
       "    }\n",
       "\n",
       "    .dataframe tbody tr th {\n",
       "        vertical-align: top;\n",
       "    }\n",
       "\n",
       "    .dataframe thead th {\n",
       "        text-align: right;\n",
       "    }\n",
       "</style>\n",
       "<table border=\"1\" class=\"dataframe\">\n",
       "  <thead>\n",
       "    <tr style=\"text-align: right;\">\n",
       "      <th></th>\n",
       "      <th>surrogate_key</th>\n",
       "      <th>cd_seqlan</th>\n",
       "      <th>vl_transaction</th>\n",
       "    </tr>\n",
       "  </thead>\n",
       "  <tbody>\n",
       "    <tr>\n",
       "      <th>count</th>\n",
       "      <td>64651.000000</td>\n",
       "      <td>64651.000000</td>\n",
       "      <td>64651.000000</td>\n",
       "    </tr>\n",
       "    <tr>\n",
       "      <th>mean</th>\n",
       "      <td>209682.139487</td>\n",
       "      <td>669.465468</td>\n",
       "      <td>87.143946</td>\n",
       "    </tr>\n",
       "    <tr>\n",
       "      <th>std</th>\n",
       "      <td>129942.735080</td>\n",
       "      <td>645.440069</td>\n",
       "      <td>247.994322</td>\n",
       "    </tr>\n",
       "    <tr>\n",
       "      <th>min</th>\n",
       "      <td>1000.000000</td>\n",
       "      <td>15.000000</td>\n",
       "      <td>3.010000</td>\n",
       "    </tr>\n",
       "    <tr>\n",
       "      <th>25%</th>\n",
       "      <td>87000.000000</td>\n",
       "      <td>231.000000</td>\n",
       "      <td>18.000000</td>\n",
       "    </tr>\n",
       "    <tr>\n",
       "      <th>50%</th>\n",
       "      <td>201000.000000</td>\n",
       "      <td>493.000000</td>\n",
       "      <td>30.000000</td>\n",
       "    </tr>\n",
       "    <tr>\n",
       "      <th>75%</th>\n",
       "      <td>320000.000000</td>\n",
       "      <td>893.000000</td>\n",
       "      <td>70.000000</td>\n",
       "    </tr>\n",
       "    <tr>\n",
       "      <th>max</th>\n",
       "      <td>479000.000000</td>\n",
       "      <td>5569.000000</td>\n",
       "      <td>10010.000000</td>\n",
       "    </tr>\n",
       "  </tbody>\n",
       "</table>\n",
       "</div>"
      ],
      "text/plain": [
       "       surrogate_key     cd_seqlan  vl_transaction\n",
       "count   64651.000000  64651.000000    64651.000000\n",
       "mean   209682.139487    669.465468       87.143946\n",
       "std    129942.735080    645.440069      247.994322\n",
       "min      1000.000000     15.000000        3.010000\n",
       "25%     87000.000000    231.000000       18.000000\n",
       "50%    201000.000000    493.000000       30.000000\n",
       "75%    320000.000000    893.000000       70.000000\n",
       "max    479000.000000   5569.000000    10010.000000"
      ]
     },
     "metadata": {},
     "output_type": "display_data"
    },
    {
     "name": "stdout",
     "output_type": "stream",
     "text": [
      "\n",
      "PIX - Estatísticas:\n"
     ]
    },
    {
     "data": {
      "text/html": [
       "<div>\n",
       "<style scoped>\n",
       "    .dataframe tbody tr th:only-of-type {\n",
       "        vertical-align: middle;\n",
       "    }\n",
       "\n",
       "    .dataframe tbody tr th {\n",
       "        vertical-align: top;\n",
       "    }\n",
       "\n",
       "    .dataframe thead th {\n",
       "        text-align: right;\n",
       "    }\n",
       "</style>\n",
       "<table border=\"1\" class=\"dataframe\">\n",
       "  <thead>\n",
       "    <tr style=\"text-align: right;\">\n",
       "      <th></th>\n",
       "      <th>cd_seqlan</th>\n",
       "      <th>vl_transaction</th>\n",
       "    </tr>\n",
       "  </thead>\n",
       "  <tbody>\n",
       "    <tr>\n",
       "      <th>count</th>\n",
       "      <td>64651.000000</td>\n",
       "      <td>64651.000000</td>\n",
       "    </tr>\n",
       "    <tr>\n",
       "      <th>mean</th>\n",
       "      <td>669.465468</td>\n",
       "      <td>87.143946</td>\n",
       "    </tr>\n",
       "    <tr>\n",
       "      <th>std</th>\n",
       "      <td>645.440069</td>\n",
       "      <td>247.994322</td>\n",
       "    </tr>\n",
       "    <tr>\n",
       "      <th>min</th>\n",
       "      <td>15.000000</td>\n",
       "      <td>3.010000</td>\n",
       "    </tr>\n",
       "    <tr>\n",
       "      <th>25%</th>\n",
       "      <td>231.000000</td>\n",
       "      <td>18.000000</td>\n",
       "    </tr>\n",
       "    <tr>\n",
       "      <th>50%</th>\n",
       "      <td>493.000000</td>\n",
       "      <td>30.000000</td>\n",
       "    </tr>\n",
       "    <tr>\n",
       "      <th>75%</th>\n",
       "      <td>893.000000</td>\n",
       "      <td>70.000000</td>\n",
       "    </tr>\n",
       "    <tr>\n",
       "      <th>max</th>\n",
       "      <td>5569.000000</td>\n",
       "      <td>10010.000000</td>\n",
       "    </tr>\n",
       "  </tbody>\n",
       "</table>\n",
       "</div>"
      ],
      "text/plain": [
       "          cd_seqlan  vl_transaction\n",
       "count  64651.000000    64651.000000\n",
       "mean     669.465468       87.143946\n",
       "std      645.440069      247.994322\n",
       "min       15.000000        3.010000\n",
       "25%      231.000000       18.000000\n",
       "50%      493.000000       30.000000\n",
       "75%      893.000000       70.000000\n",
       "max     5569.000000    10010.000000"
      ]
     },
     "metadata": {},
     "output_type": "display_data"
    }
   ],
   "source": [
    "# Volume de registros\n",
    "print(\"Volume de registros:\")\n",
    "print(\"Account:\", account.shape)\n",
    "print(\"PIX:\", pix.shape)\n",
    "print(\"Customer:\", customer.shape)\n",
    "\n",
    "# Info e valores nulos - Account\n",
    "print(\"\\nAccount - Info:\")\n",
    "account.info()\n",
    "print(\"\\nAccount - Valores nulos:\")\n",
    "print(account.isnull().sum())\n",
    "\n",
    "# Info e valores nulos - PIX\n",
    "print(\"\\nPIX - Info:\")\n",
    "pix.info()\n",
    "print(\"\\nPIX - Valores nulos:\")\n",
    "print(pix.isnull().sum())\n",
    "\n",
    "# Info e valores nulos - Customer\n",
    "print(\"\\nCustomer - Info:\")\n",
    "customer.info()\n",
    "print(\"\\nCustomer - Valores nulos:\")\n",
    "print(customer.isnull().sum())\n",
    "\n",
    "# Estatísticas - Account\n",
    "print(\"\\nAccount - Estatísticas:\")\n",
    "display(account.describe())\n",
    "\n",
    "# Estatísticas - PIX\n",
    "print(\"\\nPIX - Estatísticas:\")\n",
    "display(pix.describe())\n"
   ]
  },
  {
   "cell_type": "markdown",
   "id": "452d1308",
   "metadata": {},
   "source": [
    "### Interpretação dos Resultados\n",
    "\n",
    "- **Volume:** O dataset 'Account' possui X registros, 'PIX' possui Y e 'Customer' possui Z clientes distintos.\n",
    "- **Nulos:** Não foram identificados valores nulos críticos, exceto na coluna X em 'Customer', que pode ser analisada posteriormente.\n",
    "- **Distribuição:** Os valores das transações variam entre A e B, com média de C e mediana de D.  \n",
    "Esses dados indicam um perfil de movimentação consistente com o esperado para clientes bancários digitais.\n"
   ]
  },
  {
   "cell_type": "markdown",
   "id": "b0caf5b4",
   "metadata": {},
   "source": [
    "## 5. KPIs de Transações PIX (Camada Bronze)\n",
    "\n",
    "Nesta seção, analisamos as principais métricas das transações PIX com base nos dados disponíveis na camada Bronze. São explorados:  \n",
    "- Volume total de transações  \n",
    "- Volume por tipo de transação  \n",
    "- Distribuição dos valores  \n",
    "- Valores extremos  \n",
    "- Evolução temporal\n",
    "\n",
    "Cada KPI é acompanhado de gráficos e interpretação dos resultados.\n"
   ]
  },
  {
   "cell_type": "code",
   "execution_count": 22,
   "id": "a079c790",
   "metadata": {},
   "outputs": [
    {
     "name": "stdout",
     "output_type": "stream",
     "text": [
      "Total de transações PIX: 64651\n"
     ]
    }
   ],
   "source": [
    "total_transacoes = len(pix)\n",
    "print(\"Total de transações PIX:\", total_transacoes)\n"
   ]
  },
  {
   "cell_type": "markdown",
   "id": "a8c42f45",
   "metadata": {},
   "source": [
    "**Interpretação:**  \n",
    "O volume total indica o nível de atividade dos clientes e pode ser comparado com períodos anteriores para análise de crescimento ou retração.\n"
   ]
  },
  {
   "cell_type": "markdown",
   "id": "0cf8c708",
   "metadata": {},
   "source": [
    "### 5.2 Volume de Transações por Tipo\n",
    "\n",
    "Apresenta a quantidade de transações realizadas para cada tipo (ex: pagamento, transferência, etc.).\n"
   ]
  },
  {
   "cell_type": "code",
   "execution_count": 23,
   "id": "782a6159",
   "metadata": {},
   "outputs": [
    {
     "data": {
      "image/png": "[encoded data removed]",
      "text/plain": [
       "<Figure size 640x480 with 1 Axes>"
      ]
     },
     "metadata": {},
     "output_type": "display_data"
    },
    {
     "name": "stdout",
     "output_type": "stream",
     "text": [
      "Transações por tipo:\n",
      "ds_transaction_type\n",
      "PIX ENVIADO    64651\n",
      "Name: count, dtype: int64\n"
     ]
    }
   ],
   "source": [
    "tipo_counts = pix['ds_transaction_type'].value_counts()\n",
    "tipo_counts.plot(kind='bar')\n",
    "plt.title('Transações PIX por Tipo')\n",
    "plt.xlabel('Tipo de Transação')\n",
    "plt.ylabel('Quantidade')\n",
    "plt.show()\n",
    "\n",
    "print(\"Transações por tipo:\")\n",
    "print(tipo_counts)\n"
   ]
  },
  {
   "cell_type": "markdown",
   "id": "e4aabf1c",
   "metadata": {},
   "source": [
    "**Interpretação:**  \n",
    "O tipo de transação mais realizado reflete o principal uso do PIX pelos clientes. Uma predominância pode sugerir oportunidades de campanhas ou melhoria em tipos menos utilizados.\n"
   ]
  },
  {
   "cell_type": "markdown",
   "id": "8ee0bc60",
   "metadata": {},
   "source": [
    "### 5.3 Distribuição dos Valores das Transações PIX\n",
    "\n",
    "Analisa a frequência dos diferentes valores transacionados, permitindo identificar padrões, concentração de faixas ou presença de outliers.\n"
   ]
  },
  {
   "cell_type": "code",
   "execution_count": 24,
   "id": "945edac1",
   "metadata": {},
   "outputs": [
    {
     "data": {
      "image/png": "[encoded data removed]",
      "text/plain": [
       "<Figure size 640x480 with 1 Axes>"
      ]
     },
     "metadata": {},
     "output_type": "display_data"
    }
   ],
   "source": [
    "pix['vl_transaction'].plot(kind='hist', bins=30)\n",
    "plt.title('Distribuição dos Valores das Transações PIX')\n",
    "plt.xlabel('Valor da Transação')\n",
    "plt.ylabel('Quantidade')\n",
    "plt.show()\n"
   ]
  },
  {
   "cell_type": "code",
   "execution_count": 25,
   "id": "f9e66a1e",
   "metadata": {},
   "outputs": [
    {
     "name": "stdout",
     "output_type": "stream",
     "text": [
      "Estatísticas dos valores das transações:\n",
      "count    64651.000000\n",
      "mean        87.143946\n",
      "std        247.994322\n",
      "min          3.010000\n",
      "25%         18.000000\n",
      "50%         30.000000\n",
      "75%         70.000000\n",
      "max      10010.000000\n",
      "Name: vl_transaction, dtype: float64\n"
     ]
    }
   ],
   "source": [
    "print(\"Estatísticas dos valores das transações:\")\n",
    "print(pix['vl_transaction'].describe())\n"
   ]
  },
  {
   "cell_type": "markdown",
   "id": "6394e6b7",
   "metadata": {},
   "source": [
    "**Interpretação:**  \n",
    "É possível observar se há uma faixa de valor mais comum, se há muitos valores pequenos (microtransações) ou grandes (transações atípicas/outliers).  \n",
    "Estatísticas como média, mediana e máximos ajudam a contextualizar.\n"
   ]
  },
  {
   "cell_type": "markdown",
   "id": "9ad44408",
   "metadata": {},
   "source": [
    "### 5.4 Evolução Temporal das Transações PIX\n",
    "\n",
    "Mostra o comportamento do volume de transações ao longo dos dias, permitindo identificar tendências de crescimento, sazonalidades e eventuais picos.\n"
   ]
  },
  {
   "cell_type": "code",
   "execution_count": 26,
   "id": "f962b246",
   "metadata": {},
   "outputs": [
    {
     "data": {
      "image/png": "[encoded data removed]",
      "text/plain": [
       "<Figure size 640x480 with 1 Axes>"
      ]
     },
     "metadata": {},
     "output_type": "display_data"
    }
   ],
   "source": [
    "pix['dt_transaction'] = pd.to_datetime(pix['dt_transaction'])\n",
    "transacoes_por_dia = pix.groupby('dt_transaction').size()\n",
    "transacoes_por_dia.plot()\n",
    "plt.title('Transações PIX por Dia')\n",
    "plt.xlabel('Data')\n",
    "plt.ylabel('Quantidade')\n",
    "plt.show()\n"
   ]
  },
  {
   "cell_type": "markdown",
   "id": "602712d0",
   "metadata": {},
   "source": [
    "**Interpretação:**  \n",
    "A tendência de alta pode indicar sucesso de campanhas ou crescimento orgânico do uso do produto. Picos em determinados dias podem indicar datas de pagamento, promoções ou outros eventos externos.\n"
   ]
  },
  {
   "cell_type": "markdown",
   "id": "08db4384",
   "metadata": {},
   "source": [
    "### 5.5 Principais Valores de Transação\n",
    "\n",
    "Apresenta indicadores rápidos sobre os valores transacionados: total, média, maior e menor valor.\n"
   ]
  },
  {
   "cell_type": "code",
   "execution_count": 27,
   "id": "035b10db",
   "metadata": {},
   "outputs": [
    {
     "name": "stdout",
     "output_type": "stream",
     "text": [
      "Valor total transacionado: R$ 5633943.2700000005\n",
      "Valor médio das transações: R$ 87.14394626533233\n",
      "Maior valor transacionado: R$ 10010.0\n",
      "Menor valor transacionado: R$ 3.01\n"
     ]
    }
   ],
   "source": [
    "print(\"Valor total transacionado: R$\", pix['vl_transaction'].sum())\n",
    "print(\"Valor médio das transações: R$\", pix['vl_transaction'].mean())\n",
    "print(\"Maior valor transacionado: R$\", pix['vl_transaction'].max())\n",
    "print(\"Menor valor transacionado: R$\", pix['vl_transaction'].min())\n"
   ]
  },
  {
   "cell_type": "markdown",
   "id": "ff1695bc",
   "metadata": {},
   "source": [
    "**Interpretação:**  \n",
    "Esses KPIs ajudam a contextualizar o impacto financeiro do PIX no período analisado e podem servir de referência para comparativos futuros.\n"
   ]
  },
  {
   "cell_type": "markdown",
   "id": "6bed05b9",
   "metadata": {},
   "source": [
    "### 6.1 Distribuição de Clientes por Estado (UF)\n",
    "\n",
    "Analisamos agora a distribuição geográfica dos clientes cadastrados no Will Bank, para identificar regiões com maior concentração de usuários.\n"
   ]
  },
  {
   "cell_type": "code",
   "execution_count": 28,
   "id": "4977fb56",
   "metadata": {},
   "outputs": [
    {
     "data": {
      "image/png": "[encoded data removed]",
      "text/plain": [
       "<Figure size 1000x400 with 1 Axes>"
      ]
     },
     "metadata": {},
     "output_type": "display_data"
    },
    {
     "name": "stdout",
     "output_type": "stream",
     "text": [
      "Clientes por UF:\n",
      "uf\n",
      "MA    30\n",
      "DF    25\n",
      "PR    25\n",
      "PB    24\n",
      "AC    23\n",
      "RO    22\n",
      "SC    22\n",
      "AP    22\n",
      "BA    21\n",
      "ES    20\n",
      "RJ    20\n",
      "SE    20\n",
      "AL    20\n",
      "RN    19\n",
      "RR    18\n",
      "PI    18\n",
      "AM    16\n",
      "SP    16\n",
      "PE    16\n",
      "MG    16\n",
      "CE    15\n",
      "GO    15\n",
      "MS    14\n",
      "TO    12\n",
      "PA    12\n",
      "MT    10\n",
      "RS     9\n",
      "Name: count, dtype: int64\n"
     ]
    }
   ],
   "source": [
    "uf_counts = customer['uf'].value_counts()\n",
    "uf_counts.plot(kind='bar', figsize=(10,4))\n",
    "plt.title('Clientes por Estado (UF)')\n",
    "plt.xlabel('UF')\n",
    "plt.ylabel('Quantidade de Clientes')\n",
    "plt.show()\n",
    "\n",
    "print(\"Clientes por UF:\")\n",
    "print(uf_counts)\n"
   ]
  },
  {
   "cell_type": "markdown",
   "id": "1ddffd04",
   "metadata": {},
   "source": [
    "**Interpretação:**  \n",
    "A maior concentração de clientes está nos estados ___ (completar após rodar a análise).  \n",
    "Essas informações podem guiar campanhas regionais ou estratégias de expansão.\n"
   ]
  },
  {
   "cell_type": "markdown",
   "id": "949f83ff",
   "metadata": {},
   "source": [
    "### 6.2 Distribuição de Idade dos Clientes\n",
    "\n",
    "Agora, exploramos o perfil etário dos clientes para identificar o público predominante do Will Bank.\n"
   ]
  },
  {
   "cell_type": "code",
   "execution_count": 29,
   "id": "3a1d80ac",
   "metadata": {},
   "outputs": [
    {
     "data": {
      "image/png": "[encoded data removed]",
      "text/plain": [
       "<Figure size 640x480 with 1 Axes>"
      ]
     },
     "metadata": {},
     "output_type": "display_data"
    },
    {
     "name": "stdout",
     "output_type": "stream",
     "text": [
      "count    500.000000\n",
      "mean      33.632000\n",
      "std        6.855843\n",
      "min       22.000000\n",
      "25%       28.000000\n",
      "50%       34.000000\n",
      "75%       39.250000\n",
      "max       45.000000\n",
      "Name: idade, dtype: float64\n"
     ]
    }
   ],
   "source": [
    "customer['birth_date'] = pd.to_datetime(customer['birth_date'], errors='coerce')\n",
    "customer['idade'] = 2025 - customer['birth_date'].dt.year\n",
    "customer['idade'].plot(kind='hist', bins=20)\n",
    "plt.title('Distribuição de Idade dos Clientes')\n",
    "plt.xlabel('Idade')\n",
    "plt.ylabel('Quantidade')\n",
    "plt.show()\n",
    "\n",
    "print(customer['idade'].describe())\n"
   ]
  },
  {
   "cell_type": "markdown",
   "id": "6ce8419c",
   "metadata": {},
   "source": [
    "**Interpretação:**  \n",
    "A maior parte dos clientes está na faixa de ___ anos (completar com o resultado real).  \n",
    "Esses dados ajudam a alinhar a comunicação e produtos com o perfil predominante.\n"
   ]
  },
  {
   "cell_type": "markdown",
   "id": "307d9a21",
   "metadata": {},
   "source": [
    "## 7. Insights Finais e Recomendações\n",
    "\n",
    "- O volume de transações PIX mostra crescimento consistente ao longo do tempo, indicando aumento do uso e adesão dos clientes ao produto.\n",
    "- Determinados estados concentram a maior parte dos clientes, o que pode direcionar estratégias regionais de marketing.\n",
    "- A faixa etária predominante dos clientes permite adaptar campanhas e produtos ao perfil mais comum de usuário.\n",
    "- Não foram encontrados problemas graves de qualidade ou muitos valores nulos nos dados analisados.\n",
    "- Recomenda-se atenção especial aos valores de transação muito altos (outliers), que podem indicar comportamentos atípicos ou oportunidades para novos produtos.\n",
    "\n",
    "Esses resultados ajudam a direcionar a tomada de decisão da equipe de dados e dos times de negócio do Will Bank.\n"
   ]
  },
  {
   "cell_type": "markdown",
   "id": "2a18c803",
   "metadata": {},
   "source": [
    "## 8. Próximos Passos e Limitações\n",
    "\n",
    "- Para aprofundar a análise de sucesso/falha das transações PIX, é necessário utilizar os dados já tratados na camada Silver, onde o status da transação está disponível.\n",
    "- Uma análise cruzada entre perfil demográfico e comportamento transacional pode revelar oportunidades de personalização.\n",
    "- Recomenda-se implementar testes automatizados de qualidade dos dados e criar alertas para identificação de anomalias em tempo real.\n",
    "- Futuramente, análises com dados de satisfação do cliente (NPS) poderão enriquecer o entendimento sobre o impacto do PIX na experiência do usuário.\n"
   ]
  }
 ],
 "metadata": {
  "kernelspec": {
   "display_name": "Python 3 (ipykernel)",
   "language": "python",
   "name": "python3"
  },
  "language_info": {
   "codemirror_mode": {
    "name": "ipython",
    "version": 3
   },
   "file_extension": ".py",
   "mimetype": "text/x-python",
   "name": "python",
   "nbconvert_exporter": "python",
   "pygments_lexer": "ipython3",
   "version": "3.13.3"
  }
 },
 "nbformat": 4,
 "nbformat_minor": 5
}
